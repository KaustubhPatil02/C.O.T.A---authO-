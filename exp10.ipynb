{
  "nbformat": 4,
  "nbformat_minor": 0,
  "metadata": {
    "colab": {
      "provenance": [],
      "authorship_tag": "ABX9TyMxEnRAUYjbrT1cCdFwJBmW",
      "include_colab_link": true
    },
    "kernelspec": {
      "name": "python3",
      "display_name": "Python 3"
    },
    "language_info": {
      "name": "python"
    }
  },
  "cells": [
    {
      "cell_type": "markdown",
      "metadata": {
        "id": "view-in-github",
        "colab_type": "text"
      },
      "source": [
        "<a href=\"https://colab.research.google.com/github/kxpatil02/C.O.T.A---authO-/blob/main/exp10.ipynb\" target=\"_parent\"><img src=\"https://colab.research.google.com/assets/colab-badge.svg\" alt=\"Open In Colab\"/></a>"
      ]
    },
    {
      "cell_type": "code",
      "execution_count": null,
      "metadata": {
        "id": "FwGlWNGKUXZq"
      },
      "outputs": [],
      "source": [
        "import tkinter as tk # utils\n",
        "import subprocess\n",
        "\n",
        "meta_data = subprocess.check_output(['netsh', 'wlan', 'show', 'profiles']) data = meta_data.decode('utf-8', errors=\"backslashreplace\")\n",
        "data = data.split('\\n') names = \"\"\n",
        "\n",
        "\n",
        "\n",
        "for i in data:\n",
        "if \"All User Profile\" in i: i = i.split(\":\")\n",
        "i = i[1]\n",
        "i = i[1:-1]\n",
        "names += i names += '\\n'\n",
        "\n",
        "root = tk.Tk()\n",
        "\n",
        "# specify size of window. root.geometry(\"250x170\")\n",
        "\n",
        "# Create text widget and specify size. T = tk.Text(root, height=5, width=52)\n",
        "\n",
        "# Create label\n",
        "l = tk.Label(root, text=\"Oracle\") l.config(font=(\"Courier\", 14))\n",
        "\n",
        "Fact = \"\"\"A man can be arrested in Italy for wearing a skirt in public.\"\"\"\n",
        "\n",
        "# Create button for next text.\n",
        "b1 = tk.Button(root, text=\"Next\", )\n",
        "\n",
        "# Create an Exit button.\n",
        "b2 = tk.Button(root, text=\"Exit\", command=root.destroy)\n",
        "\n",
        "l.pack()\n",
        "T.pack()\n",
        "b1.pack()\n",
        "b2.pack()\n",
        "\n",
        "# Insert The Fact.\n",
        "T.insert(tk.END, names)\n",
        "\n",
        "\n",
        "tk.mainloop()\n"
      ]
    }
  ]
}